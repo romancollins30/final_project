{
 "cells": [
  {
   "cell_type": "code",
   "execution_count": 1,
   "metadata": {},
   "outputs": [
    {
     "name": "stderr",
     "output_type": "stream",
     "text": [
      "Using TensorFlow backend.\n"
     ]
    }
   ],
   "source": [
    "import keras.preprocessing as kp\n",
    "import os\n",
    "import pandas as pd\n",
    "import numpy as np\n",
    "import PIL"
   ]
  },
  {
   "cell_type": "code",
   "execution_count": null,
   "metadata": {},
   "outputs": [],
   "source": [
    "df = pd.DataFrame()\n",
    "path = \"RealCats/\"\n",
    "filelist = os.listdir(path)\n",
    "for x in filelist:\n",
    "    if x.endswith(\".png\"):\n",
    "        img = kp.image.load_img(path+x, target_size=(227, 227))\n",
    "        y = kp.image.img_to_array(img)\n",
    "        y = y.transpose(2,0,1).reshape(1,-1)\n",
    "        df2 = pd.DataFrame(y)\n",
    "        df = df.append(df2)"
   ]
  },
  {
   "cell_type": "code",
   "execution_count": null,
   "metadata": {},
   "outputs": [],
   "source": [
    "df.head()"
   ]
  },
  {
   "cell_type": "code",
   "execution_count": null,
   "metadata": {},
   "outputs": [],
   "source": [
    "df = df.reset_index()\n",
    "df = df.drop(columns=['index'])"
   ]
  },
  {
   "cell_type": "code",
   "execution_count": null,
   "metadata": {},
   "outputs": [],
   "source": [
    "lst = [1] * 500\n",
    "df5 = pd.DataFrame(lst, columns=['real/fake'])"
   ]
  },
  {
   "cell_type": "code",
   "execution_count": null,
   "metadata": {},
   "outputs": [],
   "source": [
    "df = pd.DataFrame()\n",
    "path = \"FakeCats/\"\n",
    "filelist = os.listdir(path)\n",
    "for x in filelist:\n",
    "    if x.endswith(\".png\"):\n",
    "        img = kp.image.load_img(path+x, target_size=(227, 227))\n",
    "        y = kp.image.img_to_array(img)\n",
    "        y = y.transpose(2,0,1).reshape(1,-1)\n",
    "        df2 = pd.DataFrame(y)\n",
    "        df = df.append(df2)"
   ]
  },
  {
   "cell_type": "code",
   "execution_count": null,
   "metadata": {},
   "outputs": [],
   "source": [
    "df = df.reset_index()\n",
    "df = df.drop(columns=['index'])"
   ]
  },
  {
   "cell_type": "code",
   "execution_count": null,
   "metadata": {},
   "outputs": [],
   "source": [
    "lst = [0] * 100\n",
    "df5 = pd.DataFrame(lst, columns=['real/fake'])\n"
   ]
  },
  {
   "cell_type": "code",
   "execution_count": null,
   "metadata": {},
   "outputs": [],
   "source": [
    "main_df2 = pd.concat([df,df5], axis=1)\n",
    "main_df2.head()"
   ]
  },
  {
   "cell_type": "code",
   "execution_count": null,
   "metadata": {},
   "outputs": [],
   "source": [
    "final_df =main_df.append(main_df2)\n",
    "final_df = final_df.reset_index()\n",
    "final_df = final_df.drop(columns=['index'])\n",
    "final_df"
   ]
  }
 ],
 "metadata": {
  "kernelspec": {
   "display_name": "Python 3",
   "language": "python",
   "name": "python3"
  },
  "language_info": {
   "codemirror_mode": {
    "name": "ipython",
    "version": 3
   },
   "file_extension": ".py",
   "mimetype": "text/x-python",
   "name": "python",
   "nbconvert_exporter": "python",
   "pygments_lexer": "ipython3",
   "version": "3.6.0"
  }
 },
 "nbformat": 4,
 "nbformat_minor": 2
}
