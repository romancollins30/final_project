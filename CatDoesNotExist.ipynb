{
 "cells": [
  {
   "cell_type": "code",
   "execution_count": 1,
   "metadata": {},
   "outputs": [],
   "source": [
    "from selenium import webdriver\n",
    "from PIL import Image\n",
    "from io import BytesIO\n",
    "from bson import Binary\n",
    "import pymongo\n",
    "import base64\n",
    "import os"
   ]
  },
  {
   "cell_type": "code",
   "execution_count": 2,
   "metadata": {},
   "outputs": [],
   "source": [
    "def scrape():\n",
    "    options = webdriver.ChromeOptions()\n",
    "    options.add_argument('--ignore-certificate-errors')\n",
    "    options.add_argument(\"--test-type\")\n",
    "    driver = webdriver.Chrome(options=options)\n",
    "\n",
    "    driver.get('https://thiscatdoesnotexist.com/')\n",
    "    element = driver.find_element_by_tag_name(\"img\")\n",
    "    location = element.location\n",
    "    size = element.size\n",
    "    png = driver.get_screenshot_as_png()\n",
    "\n",
    "    driver.close()\n",
    "\n",
    "    im = Image.open(BytesIO(png))\n",
    "\n",
    "    im = im.crop((945, 388, 1456, 900))\n",
    "    \n",
    "    im = im.resize((178,178),resample=0)\n",
    "\n",
    "    return im"
   ]
  },
  {
   "cell_type": "code",
   "execution_count": 3,
   "metadata": {},
   "outputs": [],
   "source": [
    "for x in range(500):\n",
    "    im = scrape()\n",
    "    im.save('FakeCats/screenshot' + str(x+1) + '.png')"
   ]
  },
  {
   "cell_type": "code",
   "execution_count": null,
   "metadata": {},
   "outputs": [],
   "source": []
  }
 ],
 "metadata": {
  "kernelspec": {
   "display_name": "Python 3",
   "language": "python",
   "name": "python3"
  },
  "language_info": {
   "codemirror_mode": {
    "name": "ipython",
    "version": 3
   },
   "file_extension": ".py",
   "mimetype": "text/x-python",
   "name": "python",
   "nbconvert_exporter": "python",
   "pygments_lexer": "ipython3",
   "version": "3.6.0"
  }
 },
 "nbformat": 4,
 "nbformat_minor": 2
}
