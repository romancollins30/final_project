{
 "cells": [
  {
   "cell_type": "code",
   "execution_count": 10,
   "metadata": {},
   "outputs": [
    {
     "name": "stderr",
     "output_type": "stream",
     "text": [
      "Using TensorFlow backend.\n"
     ]
    }
   ],
   "source": [
    "import pandas as pd\n",
    "import numpy as np\n",
    "import pickle\n",
    "import os\n",
    "import keras.preprocessing as kp"
   ]
  },
  {
   "cell_type": "code",
   "execution_count": 11,
   "metadata": {},
   "outputs": [],
   "source": [
    "filename = \"./models/face_model\"\n",
    "model = pickle.load(open(filename, \"rb\"))"
   ]
  },
  {
   "cell_type": "code",
   "execution_count": 13,
   "metadata": {},
   "outputs": [
    {
     "name": "stdout",
     "output_type": "stream",
     "text": [
      "real\n",
      "real\n",
      "real\n",
      "real\n",
      "real\n",
      "real\n",
      "fake\n",
      "fake\n",
      "fake\n",
      "fake\n"
     ]
    }
   ],
   "source": [
    "path = \"testing/\"\n",
    "filelist = os.listdir(path)\n",
    "for x in filelist:\n",
    "    if x.endswith(\".png\"):\n",
    "        img = kp.image.load_img(path+x, target_size=(227, 227))\n",
    "        y = kp.image.img_to_array(img)\n",
    "        y = y.transpose(2,0,1).reshape(1,-1)\n",
    "        guess = model.predict(y)\n",
    "        if guess[0] == 1:\n",
    "            print('real')\n",
    "        else:\n",
    "            print('fake')\n",
    "    if x.endswith(\".PNG\"):\n",
    "        img = kp.image.load_img(path+x, target_size=(227, 227))\n",
    "        y = kp.image.img_to_array(img)\n",
    "        y = y.transpose(2,0,1).reshape(1,-1)\n",
    "        guess = model.predict(y)\n",
    "        if guess[0] == 1:\n",
    "            print('real')\n",
    "        else:\n",
    "            print('fake')"
   ]
  }
 ],
 "metadata": {
  "kernelspec": {
   "display_name": "Python 3",
   "language": "python",
   "name": "python3"
  },
  "language_info": {
   "codemirror_mode": {
    "name": "ipython",
    "version": 3
   },
   "file_extension": ".py",
   "mimetype": "text/x-python",
   "name": "python",
   "nbconvert_exporter": "python",
   "pygments_lexer": "ipython3",
   "version": "3.6.6"
  }
 },
 "nbformat": 4,
 "nbformat_minor": 2
}
