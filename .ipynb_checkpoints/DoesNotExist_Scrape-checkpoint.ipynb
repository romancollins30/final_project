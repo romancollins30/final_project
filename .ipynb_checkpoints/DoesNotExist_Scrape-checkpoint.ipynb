{
 "cells": [
  {
   "cell_type": "code",
   "execution_count": 48,
   "metadata": {},
   "outputs": [],
   "source": [
    "from selenium import webdriver\n",
    "from PIL import Image\n",
    "from io import BytesIO\n",
    "\n",
    "\n",
    "def scrape():\n",
    "    options = webdriver.ChromeOptions()\n",
    "    options.add_argument('--ignore-certificate-errors')\n",
    "    options.add_argument(\"--test-type\")\n",
    "    driver = webdriver.Chrome(chrome_options=options)\n",
    "\n",
    "    driver.get('https://thispersondoesnotexist.com/image')\n",
    "    element = driver.find_element_by_tag_name(\"img\")\n",
    "    location = element.location\n",
    "    size = element.size\n",
    "    png = driver.get_screenshot_as_png()\n",
    "\n",
    "    driver.close()\n",
    "\n",
    "    im = Image.open(BytesIO(png))\n",
    "\n",
    "    im = im.crop((550, 0, 1850, 1300))\n",
    "\n",
    "    return im"
   ]
  },
  {
   "cell_type": "code",
   "execution_count": 49,
   "metadata": {},
   "outputs": [
    {
     "name": "stderr",
     "output_type": "stream",
     "text": [
      "/Users/katherinehinz/anaconda3/envs/pythondata/lib/python3.6/site-packages/ipykernel_launcher.py:11: DeprecationWarning: use options instead of chrome_options\n",
      "  # This is added back by InteractiveShellApp.init_path()\n",
      "/Users/katherinehinz/anaconda3/envs/pythondata/lib/python3.6/site-packages/ipykernel_launcher.py:11: DeprecationWarning: use options instead of chrome_options\n",
      "  # This is added back by InteractiveShellApp.init_path()\n"
     ]
    }
   ],
   "source": [
    "for x in range(2):\n",
    "    im = scrape()\n",
    "    im.save('screenshot' + str(x) + '.png')"
   ]
  },
  {
   "cell_type": "code",
   "execution_count": null,
   "metadata": {},
   "outputs": [],
   "source": []
  }
 ],
 "metadata": {
  "kernelspec": {
   "display_name": "Python 3",
   "language": "python",
   "name": "python3"
  },
  "language_info": {
   "codemirror_mode": {
    "name": "ipython",
    "version": 3
   },
   "file_extension": ".py",
   "mimetype": "text/x-python",
   "name": "python",
   "nbconvert_exporter": "python",
   "pygments_lexer": "ipython3",
   "version": "3.6.0"
  }
 },
 "nbformat": 4,
 "nbformat_minor": 2
}
