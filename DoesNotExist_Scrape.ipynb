{
 "cells": [
  {
   "cell_type": "code",
   "execution_count": 1,
   "metadata": {},
   "outputs": [],
   "source": [
    "# Dependencies\n",
    "# from splinter import Browser\n",
    "# from bs4 import BeautifulSoup as bs\n",
    "# import time\n",
    "# import requests\n",
    "# import os\n",
    "# import pandas as pd\n",
    "# import pprint\n",
    "# import pymongo"
   ]
  },
  {
   "cell_type": "code",
   "execution_count": 2,
   "metadata": {},
   "outputs": [],
   "source": [
    "# url of page to be scraped\n",
    "# url = 'https://thispersondoesnotexist.com/'"
   ]
  },
  {
   "cell_type": "code",
   "execution_count": 3,
   "metadata": {},
   "outputs": [
    {
     "name": "stdout",
     "output_type": "stream",
     "text": [
      "/usr/local/bin/chromedriver\r\n"
     ]
    }
   ],
   "source": [
    "# https://splinter.readthedocs.io/en/latest/drivers/chrome.html\n",
    "# !which chromedriver"
   ]
  },
  {
   "cell_type": "code",
   "execution_count": 4,
   "metadata": {},
   "outputs": [],
   "source": [
    "# executable_path = {'executable_path': '/usr/local/bin/chromedriver'}\n",
    "# browser = Browser('chrome', **executable_path, headless=False)"
   ]
  },
  {
   "cell_type": "code",
   "execution_count": 48,
   "metadata": {},
   "outputs": [],
   "source": [
    "from selenium import webdriver\n",
    "from PIL import Image\n",
    "from io import BytesIO\n",
    "\n",
    "\n",
    "def scrape():\n",
    "    options = webdriver.ChromeOptions()\n",
    "    options.add_argument('--ignore-certificate-errors')\n",
    "    options.add_argument(\"--test-type\")\n",
    "    #options.binary_location = \"/usr/local/bin/chromedriver\"\n",
    "    driver = webdriver.Chrome(chrome_options=options)\n",
    "\n",
    "    driver.get('https://thispersondoesnotexist.com/image')\n",
    "    #driver.save_screenshot(\"screenshot.png\")\n",
    "    element = driver.find_element_by_tag_name(\"img\")\n",
    "    location = element.location\n",
    "    size = element.size\n",
    "    png = driver.get_screenshot_as_png()\n",
    "\n",
    "    driver.close()\n",
    "\n",
    "    im = Image.open(BytesIO(png))\n",
    "    \n",
    "#     width, height = im.size   # Get dimensions\n",
    "#     left = 11*width/48\n",
    "#     top = height\n",
    "#     right = 11*width/48\n",
    "#     bottom = height\n",
    "    #cropped_example = original.crop((left, top, right, bottom))\n",
    "\n",
    "#     left = location['x']\n",
    "#     top = location['y']\n",
    "#     right = location['x'] + size['width']\n",
    "#     bottom = location['y'] + size['height']\n",
    "\n",
    "    im = im.crop((550, 0, 1850, 1300))\n",
    "\n",
    "#     im.save('screenshot' + str(x) + '.png')\n",
    "    return im"
   ]
  },
  {
   "cell_type": "code",
   "execution_count": 49,
   "metadata": {},
   "outputs": [
    {
     "name": "stderr",
     "output_type": "stream",
     "text": [
      "/Users/katherinehinz/anaconda3/envs/pythondata/lib/python3.6/site-packages/ipykernel_launcher.py:11: DeprecationWarning: use options instead of chrome_options\n",
      "  # This is added back by InteractiveShellApp.init_path()\n",
      "/Users/katherinehinz/anaconda3/envs/pythondata/lib/python3.6/site-packages/ipykernel_launcher.py:11: DeprecationWarning: use options instead of chrome_options\n",
      "  # This is added back by InteractiveShellApp.init_path()\n"
     ]
    }
   ],
   "source": [
    "for x in range(2):\n",
    "    im = scrape()\n",
    "    im.save('screenshot' + str(x) + '.png')"
   ]
  },
  {
   "cell_type": "code",
   "execution_count": 51,
   "metadata": {},
   "outputs": [],
   "source": [
    "image = Image.open('screenshot0.png')\n",
    "image.save('screenshot0.jpg')"
   ]
  },
  {
   "cell_type": "code",
   "execution_count": null,
   "metadata": {},
   "outputs": [],
   "source": []
  }
 ],
 "metadata": {
  "kernelspec": {
   "display_name": "Python 3",
   "language": "python",
   "name": "python3"
  },
  "language_info": {
   "codemirror_mode": {
    "name": "ipython",
    "version": 3
   },
   "file_extension": ".py",
   "mimetype": "text/x-python",
   "name": "python",
   "nbconvert_exporter": "python",
   "pygments_lexer": "ipython3",
   "version": "3.6.0"
  }
 },
 "nbformat": 4,
 "nbformat_minor": 2
}
